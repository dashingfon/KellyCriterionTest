{
 "cells": [
  {
   "cell_type": "code",
   "execution_count": 1,
   "metadata": {},
   "outputs": [],
   "source": [
    "from KellyCriterionTest import *\n",
    "import numpy as np\n",
    "import pandas as pd\n",
    "\n",
    "player = Player(PLAYER)\n",
    "game = Game(player)\n",
    "game.Play()"
   ]
  },
  {
   "cell_type": "code",
   "execution_count": 19,
   "metadata": {},
   "outputs": [
    {
     "name": "stdout",
     "output_type": "stream",
     "text": [
      "count    1.500000e+02\n",
      "mean     6.266663e+04\n",
      "std      1.423955e+05\n",
      "min      1.644481e+02\n",
      "25%      9.279508e+03\n",
      "50%      2.808912e+04\n",
      "75%      5.804026e+04\n",
      "max      1.154337e+06\n",
      "Name: 30, dtype: float64\n"
     ]
    }
   ],
   "source": [
    "with open(r'Kelly.json') as KJ:\n",
    "    river = json.load(KJ)\n",
    "\n",
    "df = pd.DataFrame.from_dict(river, orient ='index')\n",
    "stats = df[30].describe()\n",
    "print(stats)"
   ]
  },
  {
   "cell_type": "code",
   "execution_count": 17,
   "metadata": {},
   "outputs": [
    {
     "data": {
      "text/plain": [
       "74984.922484    1\n",
       "37516.078357    1\n",
       "7621.127681     1\n",
       "5495.577005     1\n",
       "21621.533948    1\n",
       "               ..\n",
       "98009.313722    1\n",
       "16910.030040    1\n",
       "8759.042364     1\n",
       "4832.867883     1\n",
       "6468.443716     1\n",
       "Name: 30, Length: 150, dtype: int64"
      ]
     },
     "execution_count": 17,
     "metadata": {},
     "output_type": "execute_result"
    }
   ],
   "source": [
    "stat = df[30].value_counts()\n",
    "stat"
   ]
  }
 ],
 "metadata": {
  "interpreter": {
   "hash": "45b0ccd36e2a27ae9c47e23f9d7361be0a0ff56c69630cf992c486c430fc74ce"
  },
  "kernelspec": {
   "display_name": "Python 3.7.3 64-bit",
   "language": "python",
   "name": "python3"
  },
  "language_info": {
   "codemirror_mode": {
    "name": "ipython",
    "version": 3
   },
   "file_extension": ".py",
   "mimetype": "text/x-python",
   "name": "python",
   "nbconvert_exporter": "python",
   "pygments_lexer": "ipython3",
   "version": "3.7.3"
  },
  "orig_nbformat": 4
 },
 "nbformat": 4,
 "nbformat_minor": 2
}
